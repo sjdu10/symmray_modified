{
 "cells": [
  {
   "cell_type": "code",
   "execution_count": 1,
   "metadata": {},
   "outputs": [
    {
     "name": "stderr",
     "output_type": "stream",
     "text": [
      "/home/sijingdu/anaconda3/envs/symmray_nqs/lib/python3.9/site-packages/cotengra/hyperoptimizers/hyper.py:33: UserWarning: Couldn't import `kahypar` - skipping from default hyper optimizer and using basic `labels` method instead.\n",
      "  warnings.warn(\n"
     ]
    }
   ],
   "source": [
    "import numpy as np\n",
    "import symmray as sr\n",
    "import quimb.tensor as qtn"
   ]
  },
  {
   "cell_type": "code",
   "execution_count": 2,
   "metadata": {},
   "outputs": [],
   "source": [
    "Lx = 4\n",
    "Ly = 2\n",
    "D = 4\n",
    "seed = 42"
   ]
  },
  {
   "cell_type": "code",
   "execution_count": 3,
   "metadata": {},
   "outputs": [
    {
     "data": {
      "text/plain": [
       "{(0, 0): {'inds': ['b(0, 0)-(0, 1)', 'b(0, 0)-(1, 0)', 'k0,0'],\n",
       "  'duals': [0, 0, 0],\n",
       "  'shape': [4, 4, 2],\n",
       "  'coordination': 2,\n",
       "  'tags': ('I0,0',)},\n",
       " (0, 1): {'inds': ['b(0, 0)-(0, 1)', 'b(0, 1)-(1, 1)', 'k0,1'],\n",
       "  'duals': [1, 0, 0],\n",
       "  'shape': [4, 4, 2],\n",
       "  'coordination': 2,\n",
       "  'tags': ('I0,1',)},\n",
       " (1,\n",
       "  0): {'inds': ['b(0, 0)-(1, 0)',\n",
       "   'b(1, 0)-(1, 1)',\n",
       "   'b(1, 0)-(2, 0)',\n",
       "   'k1,0'], 'duals': [1, 0, 0, 0], 'shape': [4,\n",
       "   4,\n",
       "   4,\n",
       "   2], 'coordination': 3, 'tags': ('I1,0',)},\n",
       " (1,\n",
       "  1): {'inds': ['b(0, 1)-(1, 1)',\n",
       "   'b(1, 0)-(1, 1)',\n",
       "   'b(1, 1)-(2, 1)',\n",
       "   'k1,1'], 'duals': [1, 1, 0, 0], 'shape': [4,\n",
       "   4,\n",
       "   4,\n",
       "   2], 'coordination': 3, 'tags': ('I1,1',)},\n",
       " (2,\n",
       "  0): {'inds': ['b(1, 0)-(2, 0)',\n",
       "   'b(2, 0)-(2, 1)',\n",
       "   'b(2, 0)-(3, 0)',\n",
       "   'k2,0'], 'duals': [1, 0, 0, 0], 'shape': [4,\n",
       "   4,\n",
       "   4,\n",
       "   2], 'coordination': 3, 'tags': ('I2,0',)},\n",
       " (2,\n",
       "  1): {'inds': ['b(1, 1)-(2, 1)',\n",
       "   'b(2, 0)-(2, 1)',\n",
       "   'b(2, 1)-(3, 1)',\n",
       "   'k2,1'], 'duals': [1, 1, 0, 0], 'shape': [4,\n",
       "   4,\n",
       "   4,\n",
       "   2], 'coordination': 3, 'tags': ('I2,1',)},\n",
       " (3, 0): {'inds': ['b(2, 0)-(3, 0)', 'b(3, 0)-(3, 1)', 'k3,0'],\n",
       "  'duals': [1, 0, 0],\n",
       "  'shape': [4, 4, 2],\n",
       "  'coordination': 2,\n",
       "  'tags': ('I3,0',)},\n",
       " (3, 1): {'inds': ['b(2, 1)-(3, 1)', 'b(3, 0)-(3, 1)', 'k3,1'],\n",
       "  'duals': [1, 1, 0],\n",
       "  'shape': [4, 4, 2],\n",
       "  'coordination': 2,\n",
       "  'tags': ('I3,1',)}}"
      ]
     },
     "execution_count": 3,
     "metadata": {},
     "output_type": "execute_result"
    }
   ],
   "source": [
    "edges = qtn.edges_2d_square(Lx, Ly)\n",
    "site_info = sr.utils.parse_edges_to_site_info(\n",
    "    edges,\n",
    "    D,\n",
    "    phys_dim=2,\n",
    "    site_ind_id=\"k{},{}\",\n",
    "    site_tag_id=\"I{},{}\",\n",
    ")\n",
    "site_info"
   ]
  },
  {
   "cell_type": "code",
   "execution_count": 4,
   "metadata": {},
   "outputs": [
    {
     "data": {
      "text/html": [
       "<samp style='font-size: 12px;'><details><summary><b style=\"color: #cde19a;\">PEPS</b>(tensors=8, indices=18, Lx=4, Ly=2, max_bond=4)</summary><samp style='font-size: 12px;'><details><summary><b style=\"color: #e55471;\">Tensor</b>(shape=(<b style=\"color: #80d749;\">4</b>, <b style=\"color: #80d749;\">4</b>, <b style=\"color: #828fdd;\">2</b>), inds=[<b style=\"color: #5ee1a8;\">b(0, 0)-(0, 1)</b>, <b style=\"color: #959bdf;\">b(0, 0)-(1, 0)</b>, <b style=\"color: #5fce5e;\">k0,0</b>], tags={<b style=\"color: #8b77de;\">I0,0</b>, <b style=\"color: #d44388;\">X0</b>, <b style=\"color: #b1d42e;\">Y0</b>}),</summary>backend=<b style=\"color: #5ee466;\">symmray</b>, dtype=<b style=\"color: #75d2c6;\">float64</b>, data=U1FermionicArray(shape~(4, 4, 2):[+++], charge=1, num_blocks=3)</details></samp><samp style='font-size: 12px;'><details><summary><b style=\"color: #e55471;\">Tensor</b>(shape=(<b style=\"color: #80d749;\">4</b>, <b style=\"color: #80d749;\">4</b>, <b style=\"color: #828fdd;\">2</b>), inds=[<b style=\"color: #5ee1a8;\">b(0, 0)-(0, 1)</b>, <b style=\"color: #d1e38e;\">b(0, 1)-(1, 1)</b>, <b style=\"color: #de9a98;\">k0,1</b>], tags={<b style=\"color: #92d399;\">I0,1</b>, <b style=\"color: #d44388;\">X0</b>, <b style=\"color: #6c45d0;\">Y1</b>}),</summary>backend=<b style=\"color: #5ee466;\">symmray</b>, dtype=<b style=\"color: #75d2c6;\">float64</b>, data=U1FermionicArray(shape~(4, 4, 2):[-++], charge=0, num_blocks=3)</details></samp><samp style='font-size: 12px;'><details><summary><b style=\"color: #e55471;\">Tensor</b>(shape=(<b style=\"color: #80d749;\">4</b>, <b style=\"color: #80d749;\">4</b>, <b style=\"color: #80d749;\">4</b>, <b style=\"color: #828fdd;\">2</b>), inds=[<b style=\"color: #959bdf;\">b(0, 0)-(1, 0)</b>, <b style=\"color: #a5e49d;\">b(1, 0)-(1, 1)</b>, <b style=\"color: #46d59d;\">b(1, 0)-(2, 0)</b>, <b style=\"color: #84ce75;\">k1,0</b>], tags={<b style=\"color: #c28de0;\">I1,0</b>, <b style=\"color: #6fe251;\">X1</b>, <b style=\"color: #b1d42e;\">Y0</b>}),</summary>backend=<b style=\"color: #5ee466;\">symmray</b>, dtype=<b style=\"color: #75d2c6;\">float64</b>, data=...</details></samp><samp style='font-size: 12px;'><details><summary><b style=\"color: #e55471;\">Tensor</b>(shape=(<b style=\"color: #80d749;\">4</b>, <b style=\"color: #80d749;\">4</b>, <b style=\"color: #80d749;\">4</b>, <b style=\"color: #828fdd;\">2</b>), inds=[<b style=\"color: #d1e38e;\">b(0, 1)-(1, 1)</b>, <b style=\"color: #a5e49d;\">b(1, 0)-(1, 1)</b>, <b style=\"color: #ce7957;\">b(1, 1)-(2, 1)</b>, <b style=\"color: #d29586;\">k1,1</b>], tags={<b style=\"color: #d67b97;\">I1,1</b>, <b style=\"color: #6fe251;\">X1</b>, <b style=\"color: #6c45d0;\">Y1</b>}),</summary>backend=<b style=\"color: #5ee466;\">symmray</b>, dtype=<b style=\"color: #75d2c6;\">float64</b>, data=...</details></samp><samp style='font-size: 12px;'><details><summary><b style=\"color: #e55471;\">Tensor</b>(shape=(<b style=\"color: #80d749;\">4</b>, <b style=\"color: #80d749;\">4</b>, <b style=\"color: #80d749;\">4</b>, <b style=\"color: #828fdd;\">2</b>), inds=[<b style=\"color: #46d59d;\">b(1, 0)-(2, 0)</b>, <b style=\"color: #cd2e7d;\">b(2, 0)-(2, 1)</b>, <b style=\"color: #db39c2;\">b(2, 0)-(3, 0)</b>, <b style=\"color: #aa87d0;\">k2,0</b>], tags={<b style=\"color: #d472d0;\">I2,0</b>, <b style=\"color: #c654d5;\">X2</b>, <b style=\"color: #b1d42e;\">Y0</b>}),</summary>backend=<b style=\"color: #5ee466;\">symmray</b>, dtype=<b style=\"color: #75d2c6;\">float64</b>, data=...</details></samp><samp style='font-size: 12px;'><details><summary><b style=\"color: #e55471;\">Tensor</b>(shape=(<b style=\"color: #80d749;\">4</b>, <b style=\"color: #80d749;\">4</b>, <b style=\"color: #80d749;\">4</b>, <b style=\"color: #828fdd;\">2</b>), inds=[<b style=\"color: #ce7957;\">b(1, 1)-(2, 1)</b>, <b style=\"color: #cd2e7d;\">b(2, 0)-(2, 1)</b>, <b style=\"color: #83a9d6;\">b(2, 1)-(3, 1)</b>, <b style=\"color: #e1962d;\">k2,1</b>], tags={<b style=\"color: #77df7d;\">I2,1</b>, <b style=\"color: #c654d5;\">X2</b>, <b style=\"color: #6c45d0;\">Y1</b>}),</summary>backend=<b style=\"color: #5ee466;\">symmray</b>, dtype=<b style=\"color: #75d2c6;\">float64</b>, data=...</details></samp><samp style='font-size: 12px;'><details><summary><b style=\"color: #e55471;\">Tensor</b>(shape=(<b style=\"color: #80d749;\">4</b>, <b style=\"color: #80d749;\">4</b>, <b style=\"color: #828fdd;\">2</b>), inds=[<b style=\"color: #db39c2;\">b(2, 0)-(3, 0)</b>, <b style=\"color: #8ede94;\">b(3, 0)-(3, 1)</b>, <b style=\"color: #42d58f;\">k3,0</b>], tags={<b style=\"color: #57ccd3;\">I3,0</b>, <b style=\"color: #e5db50;\">X3</b>, <b style=\"color: #b1d42e;\">Y0</b>}),</summary>backend=<b style=\"color: #5ee466;\">symmray</b>, dtype=<b style=\"color: #75d2c6;\">float64</b>, data=U1FermionicArray(shape~(4, 4, 2):[-++], charge=0, num_blocks=3)</details></samp><samp style='font-size: 12px;'><details><summary><b style=\"color: #e55471;\">Tensor</b>(shape=(<b style=\"color: #80d749;\">4</b>, <b style=\"color: #80d749;\">4</b>, <b style=\"color: #828fdd;\">2</b>), inds=[<b style=\"color: #83a9d6;\">b(2, 1)-(3, 1)</b>, <b style=\"color: #8ede94;\">b(3, 0)-(3, 1)</b>, <b style=\"color: #cf3298;\">k3,1</b>], tags={<b style=\"color: #98d482;\">I3,1</b>, <b style=\"color: #e5db50;\">X3</b>, <b style=\"color: #6c45d0;\">Y1</b>}),</summary>backend=<b style=\"color: #5ee466;\">symmray</b>, dtype=<b style=\"color: #75d2c6;\">float64</b>, data=U1FermionicArray(shape~(4, 4, 2):[--+], charge=1, num_blocks=1)</details></samp></details></samp>"
      ],
      "text/plain": [
       "PEPS(tensors=8, indices=18, Lx=4, Ly=2, max_bond=4)"
      ]
     },
     "execution_count": 4,
     "metadata": {},
     "output_type": "execute_result"
    }
   ],
   "source": [
    "peps = qtn.TensorNetwork()\n",
    "rng = np.random.default_rng(seed)\n",
    "N_f = int(Lx * Ly / 2)\n",
    "random_charge_string = np.zeros(Lx*Ly, dtype=int)\n",
    "random_charge_string[:N_f] = 1\n",
    "rng.shuffle(random_charge_string)\n",
    "\n",
    "index = 0\n",
    "for site, info in sorted(site_info.items()):\n",
    "\n",
    "    # bond index charge distribution\n",
    "    block_indices = [\n",
    "        sr.BlockIndex({0: d // 2, 1: d // 2}, dual=dual)\n",
    "        for d, dual in zip(info[\"shape\"][:-1], info[\"duals\"][:-1])\n",
    "    ]\n",
    "    # physical index\n",
    "    p = info['shape'][-1]\n",
    "    block_indices.append(\n",
    "        sr.BlockIndex({0: p // 2, 1: p // 2}, dual=info[\"duals\"][-1])\n",
    "    )\n",
    "\n",
    "    # data = sr.Z2FermionicArray.random(\n",
    "    #     block_indices,\n",
    "    #     charge=0,\n",
    "    #     seed=rng,\n",
    "    # )\n",
    "    data = sr.U1FermionicArray.random(\n",
    "        block_indices,\n",
    "        charge=random_charge_string[index],\n",
    "        seed=rng,\n",
    "        oddpos=index if random_charge_string[index] == 1 else None,\n",
    "    )\n",
    "\n",
    "    peps |= qtn.Tensor(\n",
    "        data=data,\n",
    "        inds=info[\"inds\"],\n",
    "        tags=info[\"tags\"],\n",
    "    )\n",
    "    index += 1\n",
    "\n",
    "# required to view general TN as an actual PEPS\n",
    "for i, j in site_info:\n",
    "    peps[f\"I{i},{j}\"].add_tag([f\"X{i}\", f\"Y{j}\"])\n",
    "\n",
    "peps.view_as_(\n",
    "    qtn.PEPS,\n",
    "    site_ind_id=\"k{},{}\",\n",
    "    site_tag_id=\"I{},{}\",\n",
    "    x_tag_id=\"X{}\",\n",
    "    y_tag_id=\"Y{}\",\n",
    "    Lx=Lx,\n",
    "    Ly=Ly,\n",
    ")"
   ]
  },
  {
   "cell_type": "code",
   "execution_count": 5,
   "metadata": {},
   "outputs": [
    {
     "data": {
      "text/plain": [
       "633.5205347719796"
      ]
     },
     "execution_count": 5,
     "metadata": {},
     "output_type": "execute_result"
    }
   ],
   "source": [
    "norm = peps.make_norm()\n",
    "norm.contract()"
   ]
  },
  {
   "cell_type": "code",
   "execution_count": 6,
   "metadata": {},
   "outputs": [
    {
     "name": "stderr",
     "output_type": "stream",
     "text": [
      "contracted boundary, Lx=3, Ly=2: : 1it [00:00, 56.45it/s]\n"
     ]
    },
    {
     "data": {
      "text/plain": [
       "633.5205347719801"
      ]
     },
     "execution_count": 6,
     "metadata": {},
     "output_type": "execute_result"
    }
   ],
   "source": [
    "norm.contract_boundary(\n",
    "    max_bond=64,\n",
    "    progbar=True,\n",
    "    layer_tags=[\"BRA\", \"KET\"],\n",
    ")"
   ]
  },
  {
   "cell_type": "code",
   "execution_count": 7,
   "metadata": {},
   "outputs": [],
   "source": [
    "t = 1.0\n",
    "V = 8.0\n",
    "mu = 0.7\n",
    "\n",
    "terms = {\n",
    "    (sitea, siteb): sr.fermi_hubbard_spinless_local_array(\n",
    "        t=t, V=V, mu=mu,\n",
    "        symmetry=\"U1\",\n",
    "        coordinations=(\n",
    "            site_info[sitea]['coordination'],\n",
    "            site_info[siteb]['coordination'],\n",
    "        ),\n",
    "    ).fuse((0, 1), (2, 3))\n",
    "    for (sitea, siteb) in peps.gen_bond_coos()\n",
    "}"
   ]
  },
  {
   "cell_type": "code",
   "execution_count": 8,
   "metadata": {},
   "outputs": [],
   "source": [
    "ham = qtn.LocalHam2D(Lx, Ly, terms)"
   ]
  },
  {
   "cell_type": "code",
   "execution_count": 9,
   "metadata": {},
   "outputs": [],
   "source": [
    "su = qtn.SimpleUpdateGen(peps, ham)"
   ]
  },
  {
   "cell_type": "code",
   "execution_count": 10,
   "metadata": {},
   "outputs": [
    {
     "name": "stderr",
     "output_type": "stream",
     "text": [
      "n=33, tau=0.3000, energy~-8.813344: 100%|##########| 33/33 [00:01<00:00, 22.23it/s]\n",
      "n=66, tau=0.1000, energy~-4.699549: 100%|##########| 33/33 [00:01<00:00, 25.12it/s]\n",
      "n=99, tau=0.0300, energy~-4.538036: 100%|##########| 33/33 [00:01<00:00, 25.21it/s]\n",
      "n=132, tau=0.0100, energy~-4.530259: 100%|##########| 33/33 [00:01<00:00, 25.04it/s]\n"
     ]
    }
   ],
   "source": [
    "# cluster energies may not be accuracte yet\n",
    "su.evolve(33, tau=0.3)\n",
    "su.evolve(33, tau=0.1)\n",
    "su.evolve(33, tau=0.03)\n",
    "su.evolve(33, tau=0.01)"
   ]
  },
  {
   "cell_type": "code",
   "execution_count": 11,
   "metadata": {},
   "outputs": [],
   "source": [
    "gs = su.get_state()"
   ]
  },
  {
   "cell_type": "code",
   "execution_count": 12,
   "metadata": {},
   "outputs": [
    {
     "name": "stdout",
     "output_type": "stream",
     "text": [
      "(1,) (0,)\n",
      "(5, 9) (10, 5)\n"
     ]
    },
    {
     "ename": "ValueError",
     "evalue": "Error when contracting blocks for sector (2, -2): shape-mismatch for sum",
     "output_type": "error",
     "traceback": [
      "\u001b[0;31m---------------------------------------------------------------------------\u001b[0m",
      "\u001b[0;31mValueError\u001b[0m                                Traceback (most recent call last)",
      "File \u001b[0;32m~/NQS/Fermion/new_quimb/symmray/symmray/abelian_core.py:1619\u001b[0m, in \u001b[0;36m_tensordot_blockwise\u001b[0;34m(a, b, left_axes, axes_a, axes_b, right_axes)\u001b[0m\n\u001b[1;32m   1618\u001b[0m \u001b[38;5;28;01mtry\u001b[39;00m:\n\u001b[0;32m-> 1619\u001b[0m     new_blocks[sector] \u001b[38;5;241m=\u001b[39m \u001b[43mfunctools\u001b[49m\u001b[38;5;241;43m.\u001b[39;49m\u001b[43mreduce\u001b[49m\u001b[43m(\u001b[49m\n\u001b[1;32m   1620\u001b[0m \u001b[43m        \u001b[49m\u001b[43moperator\u001b[49m\u001b[38;5;241;43m.\u001b[39;49m\u001b[43madd\u001b[49m\u001b[43m,\u001b[49m\n\u001b[1;32m   1621\u001b[0m \u001b[43m        \u001b[49m\u001b[43m(\u001b[49m\n\u001b[1;32m   1622\u001b[0m \u001b[43m            \u001b[49m\u001b[43m_tensordot\u001b[49m\u001b[43m(\u001b[49m\u001b[43maa\u001b[49m\u001b[43m,\u001b[49m\u001b[43m \u001b[49m\u001b[43mbb\u001b[49m\u001b[43m,\u001b[49m\u001b[43m \u001b[49m\u001b[43maxes\u001b[49m\u001b[38;5;241;43m=\u001b[39;49m\u001b[43m(\u001b[49m\u001b[43maxes_a\u001b[49m\u001b[43m,\u001b[49m\u001b[43m \u001b[49m\u001b[43maxes_b\u001b[49m\u001b[43m)\u001b[49m\u001b[43m)\u001b[49m\n\u001b[1;32m   1623\u001b[0m \u001b[43m            \u001b[49m\u001b[38;5;28;43;01mfor\u001b[39;49;00m\u001b[43m \u001b[49m\u001b[43maa\u001b[49m\u001b[43m,\u001b[49m\u001b[43m \u001b[49m\u001b[43mbb\u001b[49m\u001b[43m \u001b[49m\u001b[38;5;129;43;01min\u001b[39;49;00m\u001b[43m \u001b[49m\u001b[38;5;28;43mzip\u001b[39;49m\u001b[43m(\u001b[49m\u001b[43marrays_suba\u001b[49m\u001b[43m,\u001b[49m\u001b[43m \u001b[49m\u001b[43marrays_subb\u001b[49m\u001b[43m)\u001b[49m\n\u001b[1;32m   1624\u001b[0m \u001b[43m        \u001b[49m\u001b[43m)\u001b[49m\u001b[43m,\u001b[49m\n\u001b[1;32m   1625\u001b[0m \u001b[43m    \u001b[49m\u001b[43m)\u001b[49m\n\u001b[1;32m   1626\u001b[0m \u001b[38;5;28;01mexcept\u001b[39;00m \u001b[38;5;167;01mValueError\u001b[39;00m \u001b[38;5;28;01mas\u001b[39;00m e:\n\u001b[1;32m   1627\u001b[0m     \u001b[38;5;66;03m# print(a.blocks, b.blocks)\u001b[39;00m\n",
      "File \u001b[0;32m~/NQS/Fermion/new_quimb/symmray/symmray/abelian_core.py:1622\u001b[0m, in \u001b[0;36m<genexpr>\u001b[0;34m(.0)\u001b[0m\n\u001b[1;32m   1618\u001b[0m \u001b[38;5;28;01mtry\u001b[39;00m:\n\u001b[1;32m   1619\u001b[0m     new_blocks[sector] \u001b[38;5;241m=\u001b[39m functools\u001b[38;5;241m.\u001b[39mreduce(\n\u001b[1;32m   1620\u001b[0m         operator\u001b[38;5;241m.\u001b[39madd,\n\u001b[1;32m   1621\u001b[0m         (\n\u001b[0;32m-> 1622\u001b[0m             \u001b[43m_tensordot\u001b[49m\u001b[43m(\u001b[49m\u001b[43maa\u001b[49m\u001b[43m,\u001b[49m\u001b[43m \u001b[49m\u001b[43mbb\u001b[49m\u001b[43m,\u001b[49m\u001b[43m \u001b[49m\u001b[43maxes\u001b[49m\u001b[38;5;241;43m=\u001b[39;49m\u001b[43m(\u001b[49m\u001b[43maxes_a\u001b[49m\u001b[43m,\u001b[49m\u001b[43m \u001b[49m\u001b[43maxes_b\u001b[49m\u001b[43m)\u001b[49m\u001b[43m)\u001b[49m\n\u001b[1;32m   1623\u001b[0m             \u001b[38;5;28;01mfor\u001b[39;00m aa, bb \u001b[38;5;129;01min\u001b[39;00m \u001b[38;5;28mzip\u001b[39m(arrays_suba, arrays_subb)\n\u001b[1;32m   1624\u001b[0m         ),\n\u001b[1;32m   1625\u001b[0m     )\n\u001b[1;32m   1626\u001b[0m \u001b[38;5;28;01mexcept\u001b[39;00m \u001b[38;5;167;01mValueError\u001b[39;00m \u001b[38;5;28;01mas\u001b[39;00m e:\n\u001b[1;32m   1627\u001b[0m     \u001b[38;5;66;03m# print(a.blocks, b.blocks)\u001b[39;00m\n",
      "File \u001b[0;32m<__array_function__ internals>:180\u001b[0m, in \u001b[0;36mtensordot\u001b[0;34m(*args, **kwargs)\u001b[0m\n",
      "File \u001b[0;32m~/anaconda3/envs/symmray_nqs/lib/python3.9/site-packages/numpy/core/numeric.py:1110\u001b[0m, in \u001b[0;36mtensordot\u001b[0;34m(a, b, axes)\u001b[0m\n\u001b[1;32m   1109\u001b[0m \u001b[38;5;28;01mif\u001b[39;00m \u001b[38;5;129;01mnot\u001b[39;00m equal:\n\u001b[0;32m-> 1110\u001b[0m     \u001b[38;5;28;01mraise\u001b[39;00m \u001b[38;5;167;01mValueError\u001b[39;00m(\u001b[38;5;124m\"\u001b[39m\u001b[38;5;124mshape-mismatch for sum\u001b[39m\u001b[38;5;124m\"\u001b[39m)\n\u001b[1;32m   1112\u001b[0m \u001b[38;5;66;03m# Move the axes to sum over to the end of \"a\"\u001b[39;00m\n\u001b[1;32m   1113\u001b[0m \u001b[38;5;66;03m# and to the front of \"b\"\u001b[39;00m\n",
      "\u001b[0;31mValueError\u001b[0m: shape-mismatch for sum",
      "\nDuring handling of the above exception, another exception occurred:\n",
      "\u001b[0;31mValueError\u001b[0m                                Traceback (most recent call last)",
      "Cell \u001b[0;32mIn[12], line 3\u001b[0m\n\u001b[1;32m      1\u001b[0m \u001b[38;5;28;01mfrom\u001b[39;00m \u001b[38;5;21;01msymmray\u001b[39;00m\u001b[38;5;21;01m.\u001b[39;00m\u001b[38;5;21;01mutils\u001b[39;00m \u001b[38;5;28;01mimport\u001b[39;00m set_debug\n\u001b[1;32m      2\u001b[0m set_debug(\u001b[38;5;28;01mFalse\u001b[39;00m)\n\u001b[0;32m----> 3\u001b[0m \u001b[43mgs\u001b[49m\u001b[38;5;241;43m.\u001b[39;49m\u001b[43mcompute_local_expectation\u001b[49m\u001b[43m(\u001b[49m\n\u001b[1;32m      4\u001b[0m \u001b[43m    \u001b[49m\u001b[43mham\u001b[49m\u001b[38;5;241;43m.\u001b[39;49m\u001b[43mterms\u001b[49m\u001b[43m,\u001b[49m\u001b[43m \u001b[49m\u001b[43mnormalized\u001b[49m\u001b[38;5;241;43m=\u001b[39;49m\u001b[38;5;28;43;01mTrue\u001b[39;49;00m\u001b[43m,\u001b[49m\u001b[43m \u001b[49m\u001b[43mmax_bond\u001b[49m\u001b[38;5;241;43m=\u001b[39;49m\u001b[38;5;241;43m16\u001b[39;49m\u001b[43m,\u001b[49m\n\u001b[1;32m      5\u001b[0m \u001b[43m)\u001b[49m\n",
      "File \u001b[0;32m~/anaconda3/envs/symmray_nqs/lib/python3.9/site-packages/quimb/tensor/tensor_2d.py:4416\u001b[0m, in \u001b[0;36mTensorNetwork2DVector.compute_local_expectation\u001b[0;34m(self, terms, max_bond, cutoff, canonize, mode, layer_tags, normalized, autogroup, contract_optimize, return_all, plaquette_envs, plaquette_map, **plaquette_env_options)\u001b[0m\n\u001b[1;32m   4413\u001b[0m     plaquette_envs \u001b[38;5;241m=\u001b[39m \u001b[38;5;28mdict\u001b[39m()\n\u001b[1;32m   4414\u001b[0m     \u001b[38;5;28;01mfor\u001b[39;00m x_bsz, y_bsz \u001b[38;5;129;01min\u001b[39;00m calc_plaquette_sizes(terms\u001b[38;5;241m.\u001b[39mkeys(), autogroup):\n\u001b[1;32m   4415\u001b[0m         plaquette_envs\u001b[38;5;241m.\u001b[39mupdate(\n\u001b[0;32m-> 4416\u001b[0m             \u001b[43mnorm\u001b[49m\u001b[38;5;241;43m.\u001b[39;49m\u001b[43mcompute_plaquette_environments\u001b[49m\u001b[43m(\u001b[49m\n\u001b[1;32m   4417\u001b[0m \u001b[43m                \u001b[49m\u001b[43mx_bsz\u001b[49m\u001b[38;5;241;43m=\u001b[39;49m\u001b[43mx_bsz\u001b[49m\u001b[43m,\u001b[49m\u001b[43m \u001b[49m\u001b[43my_bsz\u001b[49m\u001b[38;5;241;43m=\u001b[39;49m\u001b[43my_bsz\u001b[49m\u001b[43m,\u001b[49m\u001b[43m \u001b[49m\u001b[38;5;241;43m*\u001b[39;49m\u001b[38;5;241;43m*\u001b[39;49m\u001b[43mplaquette_env_options\u001b[49m\n\u001b[1;32m   4418\u001b[0m \u001b[43m            \u001b[49m\u001b[43m)\u001b[49m\n\u001b[1;32m   4419\u001b[0m         )\n\u001b[1;32m   4421\u001b[0m \u001b[38;5;28;01mif\u001b[39;00m plaquette_map \u001b[38;5;129;01mis\u001b[39;00m \u001b[38;5;28;01mNone\u001b[39;00m:\n\u001b[1;32m   4422\u001b[0m     \u001b[38;5;66;03m# work out which plaquettes to use for which terms\u001b[39;00m\n\u001b[1;32m   4423\u001b[0m     plaquette_map \u001b[38;5;241m=\u001b[39m calc_plaquette_map(plaquette_envs)\n",
      "File \u001b[0;32m~/anaconda3/envs/symmray_nqs/lib/python3.9/site-packages/quimb/tensor/tensor_2d.py:3339\u001b[0m, in \u001b[0;36mTensorNetwork2D.compute_plaquette_environments\u001b[0;34m(self, x_bsz, y_bsz, max_bond, cutoff, canonize, mode, layer_tags, first_contract, second_dense, compress_opts, **compute_environment_opts)\u001b[0m\n\u001b[1;32m   3332\u001b[0m         first_contract \u001b[38;5;241m=\u001b[39m \u001b[38;5;124m\"\u001b[39m\u001b[38;5;124my\u001b[39m\u001b[38;5;124m\"\u001b[39m\n\u001b[1;32m   3334\u001b[0m compute_env_fn \u001b[38;5;241m=\u001b[39m {\n\u001b[1;32m   3335\u001b[0m     \u001b[38;5;124m\"\u001b[39m\u001b[38;5;124mx\u001b[39m\u001b[38;5;124m\"\u001b[39m: \u001b[38;5;28mself\u001b[39m\u001b[38;5;241m.\u001b[39m_compute_plaquette_environments_x_first,\n\u001b[1;32m   3336\u001b[0m     \u001b[38;5;124m\"\u001b[39m\u001b[38;5;124my\u001b[39m\u001b[38;5;124m\"\u001b[39m: \u001b[38;5;28mself\u001b[39m\u001b[38;5;241m.\u001b[39m_compute_plaquette_environments_y_first,\n\u001b[1;32m   3337\u001b[0m }[first_contract]\n\u001b[0;32m-> 3339\u001b[0m \u001b[38;5;28;01mreturn\u001b[39;00m \u001b[43mcompute_env_fn\u001b[49m\u001b[43m(\u001b[49m\n\u001b[1;32m   3340\u001b[0m \u001b[43m    \u001b[49m\u001b[43mx_bsz\u001b[49m\u001b[38;5;241;43m=\u001b[39;49m\u001b[43mx_bsz\u001b[49m\u001b[43m,\u001b[49m\n\u001b[1;32m   3341\u001b[0m \u001b[43m    \u001b[49m\u001b[43my_bsz\u001b[49m\u001b[38;5;241;43m=\u001b[39;49m\u001b[43my_bsz\u001b[49m\u001b[43m,\u001b[49m\n\u001b[1;32m   3342\u001b[0m \u001b[43m    \u001b[49m\u001b[43mmax_bond\u001b[49m\u001b[38;5;241;43m=\u001b[39;49m\u001b[43mmax_bond\u001b[49m\u001b[43m,\u001b[49m\n\u001b[1;32m   3343\u001b[0m \u001b[43m    \u001b[49m\u001b[43mcutoff\u001b[49m\u001b[38;5;241;43m=\u001b[39;49m\u001b[43mcutoff\u001b[49m\u001b[43m,\u001b[49m\n\u001b[1;32m   3344\u001b[0m \u001b[43m    \u001b[49m\u001b[43mcanonize\u001b[49m\u001b[38;5;241;43m=\u001b[39;49m\u001b[43mcanonize\u001b[49m\u001b[43m,\u001b[49m\n\u001b[1;32m   3345\u001b[0m \u001b[43m    \u001b[49m\u001b[43mmode\u001b[49m\u001b[38;5;241;43m=\u001b[39;49m\u001b[43mmode\u001b[49m\u001b[43m,\u001b[49m\n\u001b[1;32m   3346\u001b[0m \u001b[43m    \u001b[49m\u001b[43mlayer_tags\u001b[49m\u001b[38;5;241;43m=\u001b[39;49m\u001b[43mlayer_tags\u001b[49m\u001b[43m,\u001b[49m\n\u001b[1;32m   3347\u001b[0m \u001b[43m    \u001b[49m\u001b[43mcompress_opts\u001b[49m\u001b[38;5;241;43m=\u001b[39;49m\u001b[43mcompress_opts\u001b[49m\u001b[43m,\u001b[49m\n\u001b[1;32m   3348\u001b[0m \u001b[43m    \u001b[49m\u001b[43msecond_dense\u001b[49m\u001b[38;5;241;43m=\u001b[39;49m\u001b[43msecond_dense\u001b[49m\u001b[43m,\u001b[49m\n\u001b[1;32m   3349\u001b[0m \u001b[43m    \u001b[49m\u001b[38;5;241;43m*\u001b[39;49m\u001b[38;5;241;43m*\u001b[39;49m\u001b[43mcompute_environment_opts\u001b[49m\u001b[43m,\u001b[49m\n\u001b[1;32m   3350\u001b[0m \u001b[43m\u001b[49m\u001b[43m)\u001b[49m\n",
      "File \u001b[0;32m~/anaconda3/envs/symmray_nqs/lib/python3.9/site-packages/quimb/tensor/tensor_2d.py:3011\u001b[0m, in \u001b[0;36mTensorNetwork2D._compute_plaquette_environments_x_first\u001b[0;34m(self, x_bsz, y_bsz, max_bond, cutoff, canonize, layer_tags, second_dense, x_envs, **compute_environment_opts)\u001b[0m\n\u001b[1;32m   3009\u001b[0m \u001b[38;5;66;03m# first we contract from either side to produce row environments\u001b[39;00m\n\u001b[1;32m   3010\u001b[0m \u001b[38;5;28;01mif\u001b[39;00m x_envs \u001b[38;5;129;01mis\u001b[39;00m \u001b[38;5;28;01mNone\u001b[39;00m:\n\u001b[0;32m-> 3011\u001b[0m     x_envs \u001b[38;5;241m=\u001b[39m \u001b[38;5;28;43mself\u001b[39;49m\u001b[38;5;241;43m.\u001b[39;49m\u001b[43mcompute_x_environments\u001b[49m\u001b[43m(\u001b[49m\n\u001b[1;32m   3012\u001b[0m \u001b[43m        \u001b[49m\u001b[43mmax_bond\u001b[49m\u001b[38;5;241;43m=\u001b[39;49m\u001b[43mmax_bond\u001b[49m\u001b[43m,\u001b[49m\n\u001b[1;32m   3013\u001b[0m \u001b[43m        \u001b[49m\u001b[43mcutoff\u001b[49m\u001b[38;5;241;43m=\u001b[39;49m\u001b[43mcutoff\u001b[49m\u001b[43m,\u001b[49m\n\u001b[1;32m   3014\u001b[0m \u001b[43m        \u001b[49m\u001b[43mcanonize\u001b[49m\u001b[38;5;241;43m=\u001b[39;49m\u001b[43mcanonize\u001b[49m\u001b[43m,\u001b[49m\n\u001b[1;32m   3015\u001b[0m \u001b[43m        \u001b[49m\u001b[43mlayer_tags\u001b[49m\u001b[38;5;241;43m=\u001b[39;49m\u001b[43mlayer_tags\u001b[49m\u001b[43m,\u001b[49m\n\u001b[1;32m   3016\u001b[0m \u001b[43m        \u001b[49m\u001b[38;5;241;43m*\u001b[39;49m\u001b[38;5;241;43m*\u001b[39;49m\u001b[43mcompute_environment_opts\u001b[49m\u001b[43m,\u001b[49m\n\u001b[1;32m   3017\u001b[0m \u001b[43m    \u001b[49m\u001b[43m)\u001b[49m\n\u001b[1;32m   3019\u001b[0m \u001b[38;5;66;03m# next we form horizontal strips and contract from both left and right\u001b[39;00m\n\u001b[1;32m   3020\u001b[0m \u001b[38;5;66;03m#     for each row\u001b[39;00m\n\u001b[1;32m   3021\u001b[0m y_envs \u001b[38;5;241m=\u001b[39m \u001b[38;5;28mdict\u001b[39m()\n",
      "File \u001b[0;32m~/anaconda3/envs/symmray_nqs/lib/python3.9/site-packages/quimb/tensor/tensor_2d.py:2882\u001b[0m, in \u001b[0;36mTensorNetwork2D.compute_x_environments\u001b[0;34m(self, max_bond, cutoff, canonize, dense, mode, layer_tags, compress_opts, envs, **contract_boundary_opts)\u001b[0m\n\u001b[1;32m   2879\u001b[0m \u001b[38;5;28;01mif\u001b[39;00m envs \u001b[38;5;129;01mis\u001b[39;00m \u001b[38;5;28;01mNone\u001b[39;00m:\n\u001b[1;32m   2880\u001b[0m     envs \u001b[38;5;241m=\u001b[39m {}\n\u001b[0;32m-> 2882\u001b[0m \u001b[38;5;28;43mself\u001b[39;49m\u001b[38;5;241;43m.\u001b[39;49m\u001b[43mcompute_xmax_environments\u001b[49m\u001b[43m(\u001b[49m\u001b[43menvs\u001b[49m\u001b[38;5;241;43m=\u001b[39;49m\u001b[43menvs\u001b[49m\u001b[43m,\u001b[49m\u001b[43m \u001b[49m\u001b[38;5;241;43m*\u001b[39;49m\u001b[38;5;241;43m*\u001b[39;49m\u001b[43mcontract_boundary_opts\u001b[49m\u001b[43m)\u001b[49m\n\u001b[1;32m   2883\u001b[0m \u001b[38;5;28mself\u001b[39m\u001b[38;5;241m.\u001b[39mcompute_xmin_environments(envs\u001b[38;5;241m=\u001b[39menvs, \u001b[38;5;241m*\u001b[39m\u001b[38;5;241m*\u001b[39mcontract_boundary_opts)\n\u001b[1;32m   2885\u001b[0m \u001b[38;5;28;01mreturn\u001b[39;00m envs\n",
      "File \u001b[0;32m~/anaconda3/envs/symmray_nqs/lib/python3.9/site-packages/quimb/tensor/tensor_2d.py:2735\u001b[0m, in \u001b[0;36mTensorNetwork2D.compute_environments\u001b[0;34m(self, from_which, xrange, yrange, max_bond, cutoff, canonize, mode, layer_tags, dense, compress_opts, envs, **contract_boundary_opts)\u001b[0m\n\u001b[1;32m   2733\u001b[0m         tn \u001b[38;5;241m^\u001b[39m\u001b[38;5;241m=\u001b[39m (x_tag(iprevprev), x_tag(iprev))\n\u001b[1;32m   2734\u001b[0m     \u001b[38;5;28;01melse\u001b[39;00m:\n\u001b[0;32m-> 2735\u001b[0m         \u001b[43mtn\u001b[49m\u001b[38;5;241;43m.\u001b[39;49m\u001b[43mcontract_boundary_from_\u001b[49m\u001b[43m(\u001b[49m\n\u001b[1;32m   2736\u001b[0m \u001b[43m            \u001b[49m\u001b[43mxrange\u001b[49m\u001b[38;5;241;43m=\u001b[39;49m\u001b[43m(\u001b[49m\n\u001b[1;32m   2737\u001b[0m \u001b[43m                \u001b[49m\u001b[43m(\u001b[49m\u001b[43miprevprev\u001b[49m\u001b[43m,\u001b[49m\u001b[43m \u001b[49m\u001b[43miprev\u001b[49m\u001b[43m)\u001b[49m\u001b[43m \u001b[49m\u001b[38;5;28;43;01mif\u001b[39;49;00m\u001b[43m \u001b[49m\u001b[43mr2d\u001b[49m\u001b[38;5;241;43m.\u001b[39;49m\u001b[43mplane\u001b[49m\u001b[43m \u001b[49m\u001b[38;5;241;43m==\u001b[39;49m\u001b[43m \u001b[49m\u001b[38;5;124;43m\"\u001b[39;49m\u001b[38;5;124;43mx\u001b[39;49m\u001b[38;5;124;43m\"\u001b[39;49m\u001b[43m \u001b[49m\u001b[38;5;28;43;01melse\u001b[39;49;00m\u001b[43m \u001b[49m\u001b[43mr2d\u001b[49m\u001b[38;5;241;43m.\u001b[39;49m\u001b[43mxrange\u001b[49m\n\u001b[1;32m   2738\u001b[0m \u001b[43m            \u001b[49m\u001b[43m)\u001b[49m\u001b[43m,\u001b[49m\n\u001b[1;32m   2739\u001b[0m \u001b[43m            \u001b[49m\u001b[43myrange\u001b[49m\u001b[38;5;241;43m=\u001b[39;49m\u001b[43m(\u001b[49m\n\u001b[1;32m   2740\u001b[0m \u001b[43m                \u001b[49m\u001b[43m(\u001b[49m\u001b[43miprevprev\u001b[49m\u001b[43m,\u001b[49m\u001b[43m \u001b[49m\u001b[43miprev\u001b[49m\u001b[43m)\u001b[49m\u001b[43m \u001b[49m\u001b[38;5;28;43;01mif\u001b[39;49;00m\u001b[43m \u001b[49m\u001b[43mr2d\u001b[49m\u001b[38;5;241;43m.\u001b[39;49m\u001b[43mplane\u001b[49m\u001b[43m \u001b[49m\u001b[38;5;241;43m==\u001b[39;49m\u001b[43m \u001b[49m\u001b[38;5;124;43m\"\u001b[39;49m\u001b[38;5;124;43my\u001b[39;49m\u001b[38;5;124;43m\"\u001b[39;49m\u001b[43m \u001b[49m\u001b[38;5;28;43;01melse\u001b[39;49;00m\u001b[43m \u001b[49m\u001b[43mr2d\u001b[49m\u001b[38;5;241;43m.\u001b[39;49m\u001b[43myrange\u001b[49m\n\u001b[1;32m   2741\u001b[0m \u001b[43m            \u001b[49m\u001b[43m)\u001b[49m\u001b[43m,\u001b[49m\n\u001b[1;32m   2742\u001b[0m \u001b[43m            \u001b[49m\u001b[43mfrom_which\u001b[49m\u001b[38;5;241;43m=\u001b[39;49m\u001b[43mfrom_which\u001b[49m\u001b[43m,\u001b[49m\n\u001b[1;32m   2743\u001b[0m \u001b[43m            \u001b[49m\u001b[43mmax_bond\u001b[49m\u001b[38;5;241;43m=\u001b[39;49m\u001b[43mmax_bond\u001b[49m\u001b[43m,\u001b[49m\n\u001b[1;32m   2744\u001b[0m \u001b[43m            \u001b[49m\u001b[43mcutoff\u001b[49m\u001b[38;5;241;43m=\u001b[39;49m\u001b[43mcutoff\u001b[49m\u001b[43m,\u001b[49m\n\u001b[1;32m   2745\u001b[0m \u001b[43m            \u001b[49m\u001b[43mmode\u001b[49m\u001b[38;5;241;43m=\u001b[39;49m\u001b[43mmode\u001b[49m\u001b[43m,\u001b[49m\n\u001b[1;32m   2746\u001b[0m \u001b[43m            \u001b[49m\u001b[43mcanonize\u001b[49m\u001b[38;5;241;43m=\u001b[39;49m\u001b[43mcanonize\u001b[49m\u001b[43m,\u001b[49m\n\u001b[1;32m   2747\u001b[0m \u001b[43m            \u001b[49m\u001b[43mlayer_tags\u001b[49m\u001b[38;5;241;43m=\u001b[39;49m\u001b[43mlayer_tags\u001b[49m\u001b[43m,\u001b[49m\n\u001b[1;32m   2748\u001b[0m \u001b[43m            \u001b[49m\u001b[43mcompress_opts\u001b[49m\u001b[38;5;241;43m=\u001b[39;49m\u001b[43mcompress_opts\u001b[49m\u001b[43m,\u001b[49m\n\u001b[1;32m   2749\u001b[0m \u001b[43m            \u001b[49m\u001b[38;5;241;43m*\u001b[39;49m\u001b[38;5;241;43m*\u001b[39;49m\u001b[43mcontract_boundary_opts\u001b[49m\u001b[43m,\u001b[49m\n\u001b[1;32m   2750\u001b[0m \u001b[43m        \u001b[49m\u001b[43m)\u001b[49m\n\u001b[1;32m   2752\u001b[0m     envs[from_which, i] \u001b[38;5;241m=\u001b[39m tn\u001b[38;5;241m.\u001b[39mselect(first_row)\n\u001b[1;32m   2754\u001b[0m \u001b[38;5;28;01mreturn\u001b[39;00m envs\n",
      "File \u001b[0;32m~/anaconda3/envs/symmray_nqs/lib/python3.9/site-packages/quimb/tensor/tensor_2d.py:1757\u001b[0m, in \u001b[0;36mTensorNetwork2D.contract_boundary_from\u001b[0;34m(self, xrange, yrange, from_which, max_bond, cutoff, canonize, mode, layer_tags, sweep_reverse, compress_opts, inplace, **contract_boundary_opts)\u001b[0m\n\u001b[1;32m   1754\u001b[0m contract_boundary_opts[\u001b[38;5;124m\"\u001b[39m\u001b[38;5;124msweep_reverse\u001b[39m\u001b[38;5;124m\"\u001b[39m] \u001b[38;5;241m=\u001b[39m sweep_reverse\n\u001b[1;32m   1756\u001b[0m \u001b[38;5;28;01mif\u001b[39;00m mode \u001b[38;5;241m==\u001b[39m \u001b[38;5;124m\"\u001b[39m\u001b[38;5;124mmps\u001b[39m\u001b[38;5;124m\"\u001b[39m:\n\u001b[0;32m-> 1757\u001b[0m     \u001b[43mtn\u001b[49m\u001b[38;5;241;43m.\u001b[39;49m\u001b[43m_contract_boundary_core\u001b[49m\u001b[43m(\u001b[49m\u001b[38;5;241;43m*\u001b[39;49m\u001b[38;5;241;43m*\u001b[39;49m\u001b[43mcontract_boundary_opts\u001b[49m\u001b[43m)\u001b[49m\n\u001b[1;32m   1758\u001b[0m     \u001b[38;5;28;01mreturn\u001b[39;00m tn\n\u001b[1;32m   1760\u001b[0m tn\u001b[38;5;241m.\u001b[39m_contract_boundary_core_via_1d(\n\u001b[1;32m   1761\u001b[0m     method\u001b[38;5;241m=\u001b[39mmode, \u001b[38;5;241m*\u001b[39m\u001b[38;5;241m*\u001b[39mcontract_boundary_opts\n\u001b[1;32m   1762\u001b[0m )\n",
      "File \u001b[0;32m~/anaconda3/envs/symmray_nqs/lib/python3.9/site-packages/quimb/tensor/tensor_2d.py:1423\u001b[0m, in \u001b[0;36mTensorNetwork2D._contract_boundary_core\u001b[0;34m(self, xrange, yrange, from_which, max_bond, cutoff, canonize, layer_tags, compress_late, sweep_reverse, equalize_norms, compress_opts, canonize_opts)\u001b[0m\n\u001b[1;32m   1415\u001b[0m \u001b[38;5;28;01mif\u001b[39;00m compress_late:\n\u001b[1;32m   1416\u001b[0m     \u001b[38;5;66;03m# we don't compress until the full line of contractions has\u001b[39;00m\n\u001b[1;32m   1417\u001b[0m     \u001b[38;5;66;03m# been done, prioritizing gauging\u001b[39;00m\n\u001b[1;32m   1418\u001b[0m     \u001b[38;5;28;01mif\u001b[39;00m canonize:\n\u001b[1;32m   1419\u001b[0m         \u001b[38;5;66;03m#\u001b[39;00m\n\u001b[1;32m   1420\u001b[0m         \u001b[38;5;66;03m#     │  │  │  │  │\u001b[39;00m\n\u001b[1;32m   1421\u001b[0m         \u001b[38;5;66;03m#     O══O══<══<══<\u001b[39;00m\n\u001b[1;32m   1422\u001b[0m         \u001b[38;5;66;03m#\u001b[39;00m\n\u001b[0;32m-> 1423\u001b[0m         \u001b[38;5;28;43mself\u001b[39;49m\u001b[38;5;241;43m.\u001b[39;49m\u001b[43mcanonize_plane\u001b[49m\u001b[43m(\u001b[49m\n\u001b[1;32m   1424\u001b[0m \u001b[43m            \u001b[49m\u001b[43mxrange\u001b[49m\u001b[38;5;241;43m=\u001b[39;49m\u001b[43mxrange\u001b[49m\u001b[43m \u001b[49m\u001b[38;5;28;43;01mif\u001b[39;49;00m\u001b[43m \u001b[49m\u001b[43mplane\u001b[49m\u001b[43m \u001b[49m\u001b[38;5;241;43m!=\u001b[39;49m\u001b[43m \u001b[49m\u001b[38;5;124;43m\"\u001b[39;49m\u001b[38;5;124;43mx\u001b[39;49m\u001b[38;5;124;43m\"\u001b[39;49m\u001b[43m \u001b[49m\u001b[38;5;28;43;01melse\u001b[39;49;00m\u001b[43m \u001b[49m\u001b[43m(\u001b[49m\u001b[43mi\u001b[49m\u001b[43m,\u001b[49m\u001b[43m \u001b[49m\u001b[43mi\u001b[49m\u001b[43m)\u001b[49m\u001b[43m,\u001b[49m\n\u001b[1;32m   1425\u001b[0m \u001b[43m            \u001b[49m\u001b[43mxreverse\u001b[49m\u001b[38;5;241;43m=\u001b[39;49m\u001b[38;5;129;43;01mnot\u001b[39;49;00m\u001b[43m \u001b[49m\u001b[43msweep_reverse\u001b[49m\u001b[43m,\u001b[49m\n\u001b[1;32m   1426\u001b[0m \u001b[43m            \u001b[49m\u001b[43myrange\u001b[49m\u001b[38;5;241;43m=\u001b[39;49m\u001b[43myrange\u001b[49m\u001b[43m \u001b[49m\u001b[38;5;28;43;01mif\u001b[39;49;00m\u001b[43m \u001b[49m\u001b[43mplane\u001b[49m\u001b[43m \u001b[49m\u001b[38;5;241;43m!=\u001b[39;49m\u001b[43m \u001b[49m\u001b[38;5;124;43m\"\u001b[39;49m\u001b[38;5;124;43my\u001b[39;49m\u001b[38;5;124;43m\"\u001b[39;49m\u001b[43m \u001b[49m\u001b[38;5;28;43;01melse\u001b[39;49;00m\u001b[43m \u001b[49m\u001b[43m(\u001b[49m\u001b[43mi\u001b[49m\u001b[43m,\u001b[49m\u001b[43m \u001b[49m\u001b[43mi\u001b[49m\u001b[43m)\u001b[49m\u001b[43m,\u001b[49m\n\u001b[1;32m   1427\u001b[0m \u001b[43m            \u001b[49m\u001b[43myreverse\u001b[49m\u001b[38;5;241;43m=\u001b[39;49m\u001b[38;5;129;43;01mnot\u001b[39;49;00m\u001b[43m \u001b[49m\u001b[43msweep_reverse\u001b[49m\u001b[43m,\u001b[49m\n\u001b[1;32m   1428\u001b[0m \u001b[43m            \u001b[49m\u001b[43mequalize_norms\u001b[49m\u001b[38;5;241;43m=\u001b[39;49m\u001b[43mequalize_norms\u001b[49m\u001b[43m,\u001b[49m\n\u001b[1;32m   1429\u001b[0m \u001b[43m            \u001b[49m\u001b[43mcanonize_opts\u001b[49m\u001b[38;5;241;43m=\u001b[39;49m\u001b[43mcanonize_opts\u001b[49m\u001b[43m,\u001b[49m\n\u001b[1;32m   1430\u001b[0m \u001b[43m        \u001b[49m\u001b[43m)\u001b[49m\n\u001b[1;32m   1431\u001b[0m     \u001b[38;5;66;03m#\u001b[39;00m\n\u001b[1;32m   1432\u001b[0m     \u001b[38;5;66;03m#    │  │  │  │  │  -->  │  │  │  │  │  -->  │  │  │  │  │\u001b[39;00m\n\u001b[1;32m   1433\u001b[0m     \u001b[38;5;66;03m#    >──O══O══O══O  -->  >──>──O══O══O  -->  >──>──>──O══O\u001b[39;00m\n\u001b[1;32m   1434\u001b[0m     \u001b[38;5;66;03m#    .  .           -->     .  .        -->        .  .\u001b[39;00m\n\u001b[1;32m   1435\u001b[0m     \u001b[38;5;66;03m#\u001b[39;00m\n\u001b[1;32m   1436\u001b[0m     \u001b[38;5;28mself\u001b[39m\u001b[38;5;241m.\u001b[39mcompress_plane(\n\u001b[1;32m   1437\u001b[0m         xrange\u001b[38;5;241m=\u001b[39mxrange \u001b[38;5;28;01mif\u001b[39;00m plane \u001b[38;5;241m!=\u001b[39m \u001b[38;5;124m\"\u001b[39m\u001b[38;5;124mx\u001b[39m\u001b[38;5;124m\"\u001b[39m \u001b[38;5;28;01melse\u001b[39;00m (i, i),\n\u001b[1;32m   1438\u001b[0m         xreverse\u001b[38;5;241m=\u001b[39msweep_reverse,\n\u001b[0;32m   (...)\u001b[0m\n\u001b[1;32m   1444\u001b[0m         compress_opts\u001b[38;5;241m=\u001b[39mcompress_opts,\n\u001b[1;32m   1445\u001b[0m     )\n",
      "File \u001b[0;32m~/anaconda3/envs/symmray_nqs/lib/python3.9/site-packages/quimb/tensor/tensor_2d.py:948\u001b[0m, in \u001b[0;36mTensorNetwork2D.canonize_plane\u001b[0;34m(self, xrange, yrange, equalize_norms, canonize_opts, **gen_pair_opts)\u001b[0m\n\u001b[1;32m    945\u001b[0m \u001b[38;5;28;01mexcept\u001b[39;00m \u001b[38;5;167;01mKeyError\u001b[39;00m:\n\u001b[1;32m    946\u001b[0m     \u001b[38;5;28;01mcontinue\u001b[39;00m\n\u001b[0;32m--> 948\u001b[0m \u001b[38;5;28;43mself\u001b[39;49m\u001b[38;5;241;43m.\u001b[39;49m\u001b[43mcanonize_between\u001b[49m\u001b[43m(\u001b[49m\u001b[43mtag_a\u001b[49m\u001b[43m,\u001b[49m\u001b[43m \u001b[49m\u001b[43mtag_b\u001b[49m\u001b[43m,\u001b[49m\u001b[43m \u001b[49m\u001b[38;5;241;43m*\u001b[39;49m\u001b[38;5;241;43m*\u001b[39;49m\u001b[43mcanonize_opts\u001b[49m\u001b[43m)\u001b[49m\n",
      "File \u001b[0;32m~/anaconda3/envs/symmray_nqs/lib/python3.9/site-packages/quimb/tensor/tensor_core.py:6176\u001b[0m, in \u001b[0;36mTensorNetwork.canonize_between\u001b[0;34m(self, tags1, tags2, absorb, **canonize_opts)\u001b[0m\n\u001b[1;32m   6174\u001b[0m (tid1,) \u001b[38;5;241m=\u001b[39m \u001b[38;5;28mself\u001b[39m\u001b[38;5;241m.\u001b[39m_get_tids_from_tags(tags1, which\u001b[38;5;241m=\u001b[39m\u001b[38;5;124m\"\u001b[39m\u001b[38;5;124mall\u001b[39m\u001b[38;5;124m\"\u001b[39m)\n\u001b[1;32m   6175\u001b[0m (tid2,) \u001b[38;5;241m=\u001b[39m \u001b[38;5;28mself\u001b[39m\u001b[38;5;241m.\u001b[39m_get_tids_from_tags(tags2, which\u001b[38;5;241m=\u001b[39m\u001b[38;5;124m\"\u001b[39m\u001b[38;5;124mall\u001b[39m\u001b[38;5;124m\"\u001b[39m)\n\u001b[0;32m-> 6176\u001b[0m \u001b[38;5;28;43mself\u001b[39;49m\u001b[38;5;241;43m.\u001b[39;49m\u001b[43m_canonize_between_tids\u001b[49m\u001b[43m(\u001b[49m\u001b[43mtid1\u001b[49m\u001b[43m,\u001b[49m\u001b[43m \u001b[49m\u001b[43mtid2\u001b[49m\u001b[43m,\u001b[49m\u001b[43m \u001b[49m\u001b[43mabsorb\u001b[49m\u001b[38;5;241;43m=\u001b[39;49m\u001b[43mabsorb\u001b[49m\u001b[43m,\u001b[49m\u001b[43m \u001b[49m\u001b[38;5;241;43m*\u001b[39;49m\u001b[38;5;241;43m*\u001b[39;49m\u001b[43mcanonize_opts\u001b[49m\u001b[43m)\u001b[49m\n",
      "File \u001b[0;32m~/anaconda3/envs/symmray_nqs/lib/python3.9/site-packages/quimb/tensor/tensor_core.py:6127\u001b[0m, in \u001b[0;36mTensorNetwork._canonize_between_tids\u001b[0;34m(self, tid1, tid2, absorb, gauges, gauge_smudge, equalize_norms, **canonize_opts)\u001b[0m\n\u001b[1;32m   6125\u001b[0m Tl \u001b[38;5;241m=\u001b[39m \u001b[38;5;28mself\u001b[39m\u001b[38;5;241m.\u001b[39mtensor_map[tid1]\n\u001b[1;32m   6126\u001b[0m Tr \u001b[38;5;241m=\u001b[39m \u001b[38;5;28mself\u001b[39m\u001b[38;5;241m.\u001b[39mtensor_map[tid2]\n\u001b[0;32m-> 6127\u001b[0m \u001b[43mtensor_canonize_bond\u001b[49m\u001b[43m(\u001b[49m\n\u001b[1;32m   6128\u001b[0m \u001b[43m    \u001b[49m\u001b[43mTl\u001b[49m\u001b[43m,\u001b[49m\n\u001b[1;32m   6129\u001b[0m \u001b[43m    \u001b[49m\u001b[43mTr\u001b[49m\u001b[43m,\u001b[49m\n\u001b[1;32m   6130\u001b[0m \u001b[43m    \u001b[49m\u001b[43mabsorb\u001b[49m\u001b[38;5;241;43m=\u001b[39;49m\u001b[43mabsorb\u001b[49m\u001b[43m,\u001b[49m\n\u001b[1;32m   6131\u001b[0m \u001b[43m    \u001b[49m\u001b[43mgauges\u001b[49m\u001b[38;5;241;43m=\u001b[39;49m\u001b[43mgauges\u001b[49m\u001b[43m,\u001b[49m\n\u001b[1;32m   6132\u001b[0m \u001b[43m    \u001b[49m\u001b[43mgauge_smudge\u001b[49m\u001b[38;5;241;43m=\u001b[39;49m\u001b[43mgauge_smudge\u001b[49m\u001b[43m,\u001b[49m\n\u001b[1;32m   6133\u001b[0m \u001b[43m    \u001b[49m\u001b[38;5;241;43m*\u001b[39;49m\u001b[38;5;241;43m*\u001b[39;49m\u001b[43mcanonize_opts\u001b[49m\u001b[43m,\u001b[49m\n\u001b[1;32m   6134\u001b[0m \u001b[43m\u001b[49m\u001b[43m)\u001b[49m\n\u001b[1;32m   6136\u001b[0m \u001b[38;5;28;01mif\u001b[39;00m equalize_norms:\n\u001b[1;32m   6137\u001b[0m     \u001b[38;5;28mself\u001b[39m\u001b[38;5;241m.\u001b[39mstrip_exponent(tid1, equalize_norms)\n",
      "File \u001b[0;32m~/anaconda3/envs/symmray_nqs/lib/python3.9/functools.py:888\u001b[0m, in \u001b[0;36msingledispatch.<locals>.wrapper\u001b[0;34m(*args, **kw)\u001b[0m\n\u001b[1;32m    884\u001b[0m \u001b[38;5;28;01mif\u001b[39;00m \u001b[38;5;129;01mnot\u001b[39;00m args:\n\u001b[1;32m    885\u001b[0m     \u001b[38;5;28;01mraise\u001b[39;00m \u001b[38;5;167;01mTypeError\u001b[39;00m(\u001b[38;5;124mf\u001b[39m\u001b[38;5;124m'\u001b[39m\u001b[38;5;132;01m{\u001b[39;00mfuncname\u001b[38;5;132;01m}\u001b[39;00m\u001b[38;5;124m requires at least \u001b[39m\u001b[38;5;124m'\u001b[39m\n\u001b[1;32m    886\u001b[0m                     \u001b[38;5;124m'\u001b[39m\u001b[38;5;124m1 positional argument\u001b[39m\u001b[38;5;124m'\u001b[39m)\n\u001b[0;32m--> 888\u001b[0m \u001b[38;5;28;01mreturn\u001b[39;00m \u001b[43mdispatch\u001b[49m\u001b[43m(\u001b[49m\u001b[43margs\u001b[49m\u001b[43m[\u001b[49m\u001b[38;5;241;43m0\u001b[39;49m\u001b[43m]\u001b[49m\u001b[38;5;241;43m.\u001b[39;49m\u001b[38;5;18;43m__class__\u001b[39;49m\u001b[43m)\u001b[49m\u001b[43m(\u001b[49m\u001b[38;5;241;43m*\u001b[39;49m\u001b[43margs\u001b[49m\u001b[43m,\u001b[49m\u001b[43m \u001b[49m\u001b[38;5;241;43m*\u001b[39;49m\u001b[38;5;241;43m*\u001b[39;49m\u001b[43mkw\u001b[49m\u001b[43m)\u001b[49m\n",
      "File \u001b[0;32m~/anaconda3/envs/symmray_nqs/lib/python3.9/site-packages/quimb/tensor/tensor_core.py:656\u001b[0m, in \u001b[0;36mtensor_canonize_bond\u001b[0;34m(T1, T2, absorb, gauges, gauge_smudge, **split_opts)\u001b[0m\n\u001b[1;32m    653\u001b[0m     gauges\u001b[38;5;241m.\u001b[39mpop(bix, \u001b[38;5;28;01mNone\u001b[39;00m)\n\u001b[1;32m    655\u001b[0m new_T1, tRfact \u001b[38;5;241m=\u001b[39m T1\u001b[38;5;241m.\u001b[39msplit(lix, get\u001b[38;5;241m=\u001b[39m\u001b[38;5;124m\"\u001b[39m\u001b[38;5;124mtensors\u001b[39m\u001b[38;5;124m\"\u001b[39m, \u001b[38;5;241m*\u001b[39m\u001b[38;5;241m*\u001b[39msplit_opts)\n\u001b[0;32m--> 656\u001b[0m new_T2 \u001b[38;5;241m=\u001b[39m \u001b[43mtRfact\u001b[49m\u001b[43m \u001b[49m\u001b[38;5;241;43m@\u001b[39;49m\u001b[43m \u001b[49m\u001b[43mT2\u001b[49m\n\u001b[1;32m    658\u001b[0m new_T1\u001b[38;5;241m.\u001b[39mtranspose_like_(T1)\n\u001b[1;32m    659\u001b[0m new_T2\u001b[38;5;241m.\u001b[39mtranspose_like_(T2)\n",
      "File \u001b[0;32m~/anaconda3/envs/symmray_nqs/lib/python3.9/site-packages/quimb/tensor/tensor_core.py:2879\u001b[0m, in \u001b[0;36mTensor.__matmul__\u001b[0;34m(self, other)\u001b[0m\n\u001b[1;32m   2877\u001b[0m ax1 \u001b[38;5;241m=\u001b[39m \u001b[38;5;28mtuple\u001b[39m(\u001b[38;5;28mself\u001b[39m\u001b[38;5;241m.\u001b[39minds\u001b[38;5;241m.\u001b[39mindex(b) \u001b[38;5;28;01mfor\u001b[39;00m b \u001b[38;5;129;01min\u001b[39;00m bix)\n\u001b[1;32m   2878\u001b[0m ax2 \u001b[38;5;241m=\u001b[39m \u001b[38;5;28mtuple\u001b[39m(other\u001b[38;5;241m.\u001b[39minds\u001b[38;5;241m.\u001b[39mindex(b) \u001b[38;5;28;01mfor\u001b[39;00m b \u001b[38;5;129;01min\u001b[39;00m bix)\n\u001b[0;32m-> 2879\u001b[0m data_out \u001b[38;5;241m=\u001b[39m \u001b[43mdo\u001b[49m\u001b[43m(\u001b[49m\n\u001b[1;32m   2880\u001b[0m \u001b[43m    \u001b[49m\u001b[38;5;124;43m\"\u001b[39;49m\u001b[38;5;124;43mtensordot\u001b[39;49m\u001b[38;5;124;43m\"\u001b[39;49m\u001b[43m,\u001b[49m\n\u001b[1;32m   2881\u001b[0m \u001b[43m    \u001b[49m\u001b[38;5;28;43mself\u001b[39;49m\u001b[38;5;241;43m.\u001b[39;49m\u001b[43mdata\u001b[49m\u001b[43m,\u001b[49m\n\u001b[1;32m   2882\u001b[0m \u001b[43m    \u001b[49m\u001b[43mother\u001b[49m\u001b[38;5;241;43m.\u001b[39;49m\u001b[43mdata\u001b[49m\u001b[43m,\u001b[49m\n\u001b[1;32m   2883\u001b[0m \u001b[43m    \u001b[49m\u001b[43maxes\u001b[49m\u001b[38;5;241;43m=\u001b[39;49m\u001b[43m(\u001b[49m\u001b[43max1\u001b[49m\u001b[43m,\u001b[49m\u001b[43m \u001b[49m\u001b[43max2\u001b[49m\u001b[43m)\u001b[49m\u001b[43m,\u001b[49m\n\u001b[1;32m   2884\u001b[0m \u001b[43m    \u001b[49m\u001b[43mlike\u001b[49m\u001b[38;5;241;43m=\u001b[39;49m\u001b[43mget_contract_backend\u001b[49m\u001b[43m(\u001b[49m\u001b[43m)\u001b[49m\u001b[43m,\u001b[49m\n\u001b[1;32m   2885\u001b[0m \u001b[43m\u001b[49m\u001b[43m)\u001b[49m\n\u001b[1;32m   2886\u001b[0m new_inds \u001b[38;5;241m=\u001b[39m lix \u001b[38;5;241m+\u001b[39m rix\n\u001b[1;32m   2887\u001b[0m \u001b[38;5;28;01mif\u001b[39;00m \u001b[38;5;129;01mnot\u001b[39;00m new_inds:\n\u001b[1;32m   2888\u001b[0m     \u001b[38;5;66;03m# scalar\u001b[39;00m\n",
      "File \u001b[0;32m~/anaconda3/envs/symmray_nqs/lib/python3.9/site-packages/autoray/autoray.py:81\u001b[0m, in \u001b[0;36mdo\u001b[0;34m(fn, like, *args, **kwargs)\u001b[0m\n\u001b[1;32m     79\u001b[0m backend \u001b[38;5;241m=\u001b[39m _choose_backend(fn, args, kwargs, like\u001b[38;5;241m=\u001b[39mlike)\n\u001b[1;32m     80\u001b[0m func \u001b[38;5;241m=\u001b[39m get_lib_fn(backend, fn)\n\u001b[0;32m---> 81\u001b[0m \u001b[38;5;28;01mreturn\u001b[39;00m \u001b[43mfunc\u001b[49m\u001b[43m(\u001b[49m\u001b[38;5;241;43m*\u001b[39;49m\u001b[43margs\u001b[49m\u001b[43m,\u001b[49m\u001b[43m \u001b[49m\u001b[38;5;241;43m*\u001b[39;49m\u001b[38;5;241;43m*\u001b[39;49m\u001b[43mkwargs\u001b[49m\u001b[43m)\u001b[49m\n",
      "File \u001b[0;32m~/anaconda3/envs/symmray_nqs/lib/python3.9/functools.py:888\u001b[0m, in \u001b[0;36msingledispatch.<locals>.wrapper\u001b[0;34m(*args, **kw)\u001b[0m\n\u001b[1;32m    884\u001b[0m \u001b[38;5;28;01mif\u001b[39;00m \u001b[38;5;129;01mnot\u001b[39;00m args:\n\u001b[1;32m    885\u001b[0m     \u001b[38;5;28;01mraise\u001b[39;00m \u001b[38;5;167;01mTypeError\u001b[39;00m(\u001b[38;5;124mf\u001b[39m\u001b[38;5;124m'\u001b[39m\u001b[38;5;132;01m{\u001b[39;00mfuncname\u001b[38;5;132;01m}\u001b[39;00m\u001b[38;5;124m requires at least \u001b[39m\u001b[38;5;124m'\u001b[39m\n\u001b[1;32m    886\u001b[0m                     \u001b[38;5;124m'\u001b[39m\u001b[38;5;124m1 positional argument\u001b[39m\u001b[38;5;124m'\u001b[39m)\n\u001b[0;32m--> 888\u001b[0m \u001b[38;5;28;01mreturn\u001b[39;00m \u001b[43mdispatch\u001b[49m\u001b[43m(\u001b[49m\u001b[43margs\u001b[49m\u001b[43m[\u001b[49m\u001b[38;5;241;43m0\u001b[39;49m\u001b[43m]\u001b[49m\u001b[38;5;241;43m.\u001b[39;49m\u001b[38;5;18;43m__class__\u001b[39;49m\u001b[43m)\u001b[49m\u001b[43m(\u001b[49m\u001b[38;5;241;43m*\u001b[39;49m\u001b[43margs\u001b[49m\u001b[43m,\u001b[49m\u001b[43m \u001b[49m\u001b[38;5;241;43m*\u001b[39;49m\u001b[38;5;241;43m*\u001b[39;49m\u001b[43mkw\u001b[49m\u001b[43m)\u001b[49m\n",
      "File \u001b[0;32m~/NQS/Fermion/new_quimb/symmray/symmray/fermionic_core.py:756\u001b[0m, in \u001b[0;36mtensordot_fermionic\u001b[0;34m(a, b, axes, preserve_array, **kwargs)\u001b[0m\n\u001b[1;32m    753\u001b[0m b\u001b[38;5;241m.\u001b[39mphase_sync(inplace\u001b[38;5;241m=\u001b[39m\u001b[38;5;28;01mTrue\u001b[39;00m)\n\u001b[1;32m    755\u001b[0m \u001b[38;5;66;03m# perform blocked contraction!\u001b[39;00m\n\u001b[0;32m--> 756\u001b[0m c \u001b[38;5;241m=\u001b[39m \u001b[43mtensordot_abelian\u001b[49m\u001b[43m(\u001b[49m\n\u001b[1;32m    757\u001b[0m \u001b[43m    \u001b[49m\u001b[43ma\u001b[49m\u001b[43m,\u001b[49m\n\u001b[1;32m    758\u001b[0m \u001b[43m    \u001b[49m\u001b[43mb\u001b[49m\u001b[43m,\u001b[49m\n\u001b[1;32m    759\u001b[0m \u001b[43m    \u001b[49m\u001b[43maxes\u001b[49m\u001b[38;5;241;43m=\u001b[39;49m\u001b[43m(\u001b[49m\u001b[43mnew_axes_a\u001b[49m\u001b[43m,\u001b[49m\u001b[43m \u001b[49m\u001b[43mnew_axes_b\u001b[49m\u001b[43m)\u001b[49m\u001b[43m,\u001b[49m\n\u001b[1;32m    760\u001b[0m \u001b[43m    \u001b[49m\u001b[38;5;66;43;03m# preserve array for resolving oddposs\u001b[39;49;00m\n\u001b[1;32m    761\u001b[0m \u001b[43m    \u001b[49m\u001b[43mpreserve_array\u001b[49m\u001b[38;5;241;43m=\u001b[39;49m\u001b[38;5;28;43;01mTrue\u001b[39;49;00m\u001b[43m,\u001b[49m\n\u001b[1;32m    762\u001b[0m \u001b[43m    \u001b[49m\u001b[38;5;241;43m*\u001b[39;49m\u001b[38;5;241;43m*\u001b[39;49m\u001b[43mkwargs\u001b[49m\u001b[43m,\u001b[49m\n\u001b[1;32m    763\u001b[0m \u001b[43m\u001b[49m\u001b[43m)\u001b[49m\n\u001b[1;32m    765\u001b[0m \u001b[38;5;66;03m# potential global phase flip from oddpos sorting\u001b[39;00m\n\u001b[1;32m    766\u001b[0m resolve_combined_oddpos(a, b, c)\n",
      "File \u001b[0;32m~/NQS/Fermion/new_quimb/symmray/symmray/abelian_core.py:1799\u001b[0m, in \u001b[0;36mtensordot_abelian\u001b[0;34m(a, b, axes, mode, preserve_array)\u001b[0m\n\u001b[1;32m   1797\u001b[0m     \u001b[38;5;28;01mraise\u001b[39;00m \u001b[38;5;167;01mValueError\u001b[39;00m(\u001b[38;5;124mf\u001b[39m\u001b[38;5;124m\"\u001b[39m\u001b[38;5;124mUnknown tensordot mode: \u001b[39m\u001b[38;5;132;01m{\u001b[39;00mmode\u001b[38;5;132;01m}\u001b[39;00m\u001b[38;5;124m.\u001b[39m\u001b[38;5;124m\"\u001b[39m)\n\u001b[1;32m   1798\u001b[0m \u001b[38;5;66;03m# print(\"mode\", mode)\u001b[39;00m\n\u001b[0;32m-> 1799\u001b[0m c \u001b[38;5;241m=\u001b[39m \u001b[43m_tdot\u001b[49m\u001b[43m(\u001b[49m\u001b[43ma\u001b[49m\u001b[43m,\u001b[49m\u001b[43m \u001b[49m\u001b[43mb\u001b[49m\u001b[43m,\u001b[49m\u001b[43m \u001b[49m\u001b[43mleft_axes\u001b[49m\u001b[43m,\u001b[49m\u001b[43m \u001b[49m\u001b[43maxes_a\u001b[49m\u001b[43m,\u001b[49m\u001b[43m \u001b[49m\u001b[43maxes_b\u001b[49m\u001b[43m,\u001b[49m\u001b[43m \u001b[49m\u001b[43mright_axes\u001b[49m\u001b[43m)\u001b[49m\n\u001b[1;32m   1801\u001b[0m \u001b[38;5;28;01mif\u001b[39;00m DEBUG:\n\u001b[1;32m   1802\u001b[0m     c\u001b[38;5;241m.\u001b[39mcheck()\n",
      "File \u001b[0;32m~/NQS/Fermion/new_quimb/symmray/symmray/abelian_core.py:1733\u001b[0m, in \u001b[0;36m_tensordot_via_fused\u001b[0;34m(a, b, left_axes, axes_a, axes_b, right_axes)\u001b[0m\n\u001b[1;32m   1725\u001b[0m axes_b, right_axes \u001b[38;5;241m=\u001b[39m {\n\u001b[1;32m   1726\u001b[0m     (\u001b[38;5;28;01mFalse\u001b[39;00m, \u001b[38;5;28;01mFalse\u001b[39;00m): ((), ()),  \u001b[38;5;66;03m# right scalar\u001b[39;00m\n\u001b[1;32m   1727\u001b[0m     (\u001b[38;5;28;01mFalse\u001b[39;00m, \u001b[38;5;28;01mTrue\u001b[39;00m): ((), (\u001b[38;5;241m0\u001b[39m,)),  \u001b[38;5;66;03m# right vector outer\u001b[39;00m\n\u001b[1;32m   1728\u001b[0m     (\u001b[38;5;28;01mTrue\u001b[39;00m, \u001b[38;5;28;01mFalse\u001b[39;00m): ((\u001b[38;5;241m0\u001b[39m,), ()),  \u001b[38;5;66;03m# right vector inner\u001b[39;00m\n\u001b[1;32m   1729\u001b[0m     (\u001b[38;5;28;01mTrue\u001b[39;00m, \u001b[38;5;28;01mTrue\u001b[39;00m): ((\u001b[38;5;241m0\u001b[39m,), (\u001b[38;5;241m1\u001b[39m,)),  \u001b[38;5;66;03m# right matrix\u001b[39;00m\n\u001b[1;32m   1730\u001b[0m }[\u001b[38;5;28mbool\u001b[39m(axes_b), \u001b[38;5;28mbool\u001b[39m(right_axes)]\n\u001b[1;32m   1732\u001b[0m \u001b[38;5;66;03m# tensordot the fused blocks\u001b[39;00m\n\u001b[0;32m-> 1733\u001b[0m cf \u001b[38;5;241m=\u001b[39m \u001b[43m_tensordot_blockwise\u001b[49m\u001b[43m(\u001b[49m\u001b[43maf\u001b[49m\u001b[43m,\u001b[49m\u001b[43m \u001b[49m\u001b[43mbf\u001b[49m\u001b[43m,\u001b[49m\u001b[43m \u001b[49m\u001b[43mleft_axes\u001b[49m\u001b[43m,\u001b[49m\u001b[43m \u001b[49m\u001b[43maxes_a\u001b[49m\u001b[43m,\u001b[49m\u001b[43m \u001b[49m\u001b[43maxes_b\u001b[49m\u001b[43m,\u001b[49m\u001b[43m \u001b[49m\u001b[43mright_axes\u001b[49m\u001b[43m)\u001b[49m\n\u001b[1;32m   1735\u001b[0m \u001b[38;5;66;03m# unfuse result into (*left_axes, *right_axes)\u001b[39;00m\n\u001b[1;32m   1736\u001b[0m \u001b[38;5;28;01mfor\u001b[39;00m ax \u001b[38;5;129;01min\u001b[39;00m \u001b[38;5;28mreversed\u001b[39m(\u001b[38;5;28mrange\u001b[39m(cf\u001b[38;5;241m.\u001b[39mndim)):\n",
      "File \u001b[0;32m~/NQS/Fermion/new_quimb/symmray/symmray/abelian_core.py:1633\u001b[0m, in \u001b[0;36m_tensordot_blockwise\u001b[0;34m(a, b, left_axes, axes_a, axes_b, right_axes)\u001b[0m\n\u001b[1;32m   1631\u001b[0m             \u001b[38;5;28mprint\u001b[39m(axes_a, axes_b)\n\u001b[1;32m   1632\u001b[0m             \u001b[38;5;28mprint\u001b[39m(a\u001b[38;5;241m.\u001b[39mshape, b\u001b[38;5;241m.\u001b[39mshape)\n\u001b[0;32m-> 1633\u001b[0m         \u001b[38;5;28;01mraise\u001b[39;00m \u001b[38;5;167;01mValueError\u001b[39;00m(\n\u001b[1;32m   1634\u001b[0m             \u001b[38;5;124mf\u001b[39m\u001b[38;5;124m\"\u001b[39m\u001b[38;5;124mError when contracting blocks for sector \u001b[39m\u001b[38;5;132;01m{\u001b[39;00msector\u001b[38;5;132;01m}\u001b[39;00m\u001b[38;5;124m: \u001b[39m\u001b[38;5;132;01m{\u001b[39;00me\u001b[38;5;132;01m}\u001b[39;00m\u001b[38;5;124m\"\u001b[39m)\n\u001b[1;32m   1636\u001b[0m new \u001b[38;5;241m=\u001b[39m a\u001b[38;5;241m.\u001b[39m\u001b[38;5;21m__new__\u001b[39m(a\u001b[38;5;241m.\u001b[39m\u001b[38;5;18m__class__\u001b[39m)\n\u001b[1;32m   1637\u001b[0m new\u001b[38;5;241m.\u001b[39m_symmetry \u001b[38;5;241m=\u001b[39m a\u001b[38;5;241m.\u001b[39msymmetry\n",
      "\u001b[0;31mValueError\u001b[0m: Error when contracting blocks for sector (2, -2): shape-mismatch for sum"
     ]
    }
   ],
   "source": [
    "from symmray.utils import set_debug\n",
    "set_debug(False)\n",
    "gs.compute_local_expectation(\n",
    "    ham.terms, normalized=True, max_bond=16,\n",
    ")"
   ]
  },
  {
   "cell_type": "code",
   "execution_count": 14,
   "metadata": {},
   "outputs": [
    {
     "data": {
      "text/plain": [
       "-1.6888319453881473"
      ]
     },
     "execution_count": 14,
     "metadata": {},
     "output_type": "execute_result"
    }
   ],
   "source": [
    "gs.compute_local_expectation(\n",
    "    ham.terms, normalized=True, max_bond=32,\n",
    ")"
   ]
  },
  {
   "cell_type": "code",
   "execution_count": 15,
   "metadata": {},
   "outputs": [
    {
     "data": {
      "text/plain": [
       "-1.6888319453881473"
      ]
     },
     "execution_count": 15,
     "metadata": {},
     "output_type": "execute_result"
    }
   ],
   "source": [
    "gs.compute_local_expectation(\n",
    "    ham.terms, normalized=True, max_bond=64,\n",
    ")"
   ]
  }
 ],
 "metadata": {
  "kernelspec": {
   "display_name": "py311",
   "language": "python",
   "name": "python3"
  },
  "language_info": {
   "codemirror_mode": {
    "name": "ipython",
    "version": 3
   },
   "file_extension": ".py",
   "mimetype": "text/x-python",
   "name": "python",
   "nbconvert_exporter": "python",
   "pygments_lexer": "ipython3",
   "version": "3.9.19"
  }
 },
 "nbformat": 4,
 "nbformat_minor": 2
}
